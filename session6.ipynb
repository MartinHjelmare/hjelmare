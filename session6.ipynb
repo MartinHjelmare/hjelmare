{
 "metadata": {
  "name": "session6"
 },
 "nbformat": 3,
 "nbformat_minor": 0,
 "worksheets": [
  {
   "cells": [
    {
     "cell_type": "code",
     "collapsed": false,
     "input": [
      "%%bash\n",
      "python -m cProfile -o /home/martin/Dev/hjelmare/profile_results/check_repo.py.cProfile /home/martin/Dev/hjelmare/scripts/check_repo.py /home/martin/Dev/hjelmare/"
     ],
     "language": "python",
     "metadata": {},
     "outputs": [
      {
       "output_type": "stream",
       "stream": "stdout",
       "text": [
        "PASS\n"
       ]
      }
     ],
     "prompt_number": 1
    },
    {
     "cell_type": "code",
     "collapsed": false,
     "input": [
      "%%script --bg bash\n",
      "snakeviz /home/martin/Dev/hjelmare/profile_results/check_repo.py.cProfile"
     ],
     "language": "python",
     "metadata": {},
     "outputs": [
      {
       "output_type": "stream",
       "stream": "stdout",
       "text": [
        "Starting job # 0 in a separate thread.\n"
       ]
      }
     ],
     "prompt_number": 2
    },
    {
     "cell_type": "code",
     "collapsed": false,
     "input": [
      "%%bash\n",
      "python -m cProfile -o /home/martin/Dev/hjelmare/profile_results/getting_data.py.cProfile /home/martin/Dev/hjelmare/scripts/getting_data.py"
     ],
     "language": "python",
     "metadata": {},
     "outputs": [
      {
       "output_type": "stream",
       "stream": "stdout",
       "text": [
        "Fraction of Repairs in the NYC subway system:0.578947368421\n"
       ]
      }
     ],
     "prompt_number": 1
    },
    {
     "cell_type": "code",
     "collapsed": false,
     "input": [
      "%%script --bg bash\n",
      "snakeviz /home/martin/Dev/hjelmare/profile_results/getting_data.py.cProfile"
     ],
     "language": "python",
     "metadata": {},
     "outputs": [
      {
       "output_type": "stream",
       "stream": "stdout",
       "text": [
        "Starting job # 0 in a separate thread.\n"
       ]
      }
     ],
     "prompt_number": 2
    },
    {
     "cell_type": "code",
     "collapsed": false,
     "input": [
      "%%bash\n",
      "python -m plop.collector /home/martin/Dev/hjelmare/scripts/check_repo.py /home/martin/Dev/hjelmare/"
     ],
     "language": "python",
     "metadata": {},
     "outputs": [
      {
       "output_type": "stream",
       "stream": "stdout",
       "text": [
        "PASS\n",
        "profile output saved to /tmp/plop.out\n",
        "overhead was 0.0 per sample (0.0%)\n"
       ]
      }
     ],
     "prompt_number": 4
    },
    {
     "cell_type": "code",
     "collapsed": false,
     "input": [
      "!cat /tmp/plop.out"
     ],
     "language": "python",
     "metadata": {},
     "outputs": [
      {
       "output_type": "stream",
       "stream": "stdout",
       "text": [
        "{}"
       ]
      }
     ],
     "prompt_number": 5
    },
    {
     "cell_type": "code",
     "collapsed": false,
     "input": [
      "%%script --bg bash\n",
      "python -m plop.viewer --port=9876 --datadir=/tmp"
     ],
     "language": "python",
     "metadata": {},
     "outputs": [
      {
       "output_type": "stream",
       "stream": "stdout",
       "text": [
        "Starting job # 2 in a separate thread.\n"
       ]
      }
     ],
     "prompt_number": 6
    },
    {
     "cell_type": "code",
     "collapsed": false,
     "input": [
      "%%bash\n",
      "python -m plop.collector /home/martin/Dev/hjelmare/scripts/getting_data.py "
     ],
     "language": "python",
     "metadata": {},
     "outputs": [
      {
       "output_type": "stream",
       "stream": "stdout",
       "text": [
        "Fraction of Repairs in the NYC subway system:0.555555555556\n",
        "profile output saved to /tmp/plop.out\n",
        "overhead was 4.49589320592e-05 per sample (0.00449589320592%)\n"
       ]
      }
     ],
     "prompt_number": 11
    },
    {
     "cell_type": "code",
     "collapsed": false,
     "input": [
      "!cat /tmp/plop.out"
     ],
     "language": "python",
     "metadata": {},
     "outputs": [
      {
       "output_type": "stream",
       "stream": "stdout",
       "text": [
        "{(('build/bdist.linux-x86_64/egg/untangle.py', 103, 'startElement'), ('/usr/lib/python2.7/xml/sax/expatreader.py', 300, 'start_element'), ('/build/buildd/python2.7-2.7.3/Modules/pyexpat.c', 566, 'StartElement'), ('/usr/lib/python2.7/xml/sax/expatreader.py', 196, 'feed'), ('/usr/lib/python2.7/xml/sax/xmlreader.py', 115, 'parse'), ('/usr/lib/python2.7/xml/sax/expatreader.py', 100, 'parse'), ('build/bdist.linux-x86_64/egg/untangle.py', 124, 'parse'), ('hjelmare/session2.py', 3, 'fraction_repairs'), ('<string>', 1, '<module>'), ('/home/martin/.virtualenvs/py2.7/lib/python2.7/site-packages/plop/collector.py', 74, 'main'), ('/home/martin/.virtualenvs/py2.7/lib/python2.7/site-packages/plop/collector.py', 1, '<module>'), ('/usr/lib/python2.7/runpy.py', 62, '_run_code'), ('/usr/lib/python2.7/runpy.py', 136, '_run_module_as_main')): 2, (('/home/martin/.virtualenvs/py2.7/lib/python2.7/sre_parse.py', 182, '__next'), ('/home/martin/.virtualenvs/py2.7/lib/python2.7/sre_parse.py', 201, 'get'), ('/home/martin/.virtualenvs/py2.7/lib/python2.7/sre_parse.py', 379, '_parse'), ('/home/martin/.virtualenvs/py2.7/lib/python2.7/sre_parse.py', 301, '_parse_sub'), ('/home/martin/.virtualenvs/py2.7/lib/python2.7/sre_parse.py', 663, 'parse'), ('/home/martin/.virtualenvs/py2.7/lib/python2.7/sre_compile.py', 495, 'compile'), ('/home/martin/.virtualenvs/py2.7/lib/python2.7/re.py', 226, '_compile'), ('/home/martin/.virtualenvs/py2.7/lib/python2.7/re.py', 188, 'compile'), ('/usr/lib/python2.7/textwrap.py', 32, 'TextWrapper'), ('/usr/lib/python2.7/textwrap.py', 2, '<module>'), ('/usr/lib/python2.7/ssl.py', 56, '<module>'), ('/usr/lib/python2.7/urllib.py', 23, '<module>'), ('/usr/lib/python2.7/cgi.py', 16, '<module>'), ('/home/martin/.virtualenvs/py2.7/local/lib/python2.7/site-packages/requests-1.1.0-py2.7.egg/requests/utils.py', 10, '<module>'), ('/home/martin/.virtualenvs/py2.7/local/lib/python2.7/site-packages/requests-1.1.0-py2.7.egg/requests/__init__.py', 42, '<module>'), ('hjelmare/session2.py', 2, '<module>'), ('<string>', 1, '<module>'), ('/home/martin/.virtualenvs/py2.7/lib/python2.7/site-packages/plop/collector.py', 74, 'main'), ('/home/martin/.virtualenvs/py2.7/lib/python2.7/site-packages/plop/collector.py', 1, '<module>'), ('/usr/lib/python2.7/runpy.py', 62, '_run_code'), ('/usr/lib/python2.7/runpy.py', 136, '_run_module_as_main')): 1, (('/home/martin/.virtualenvs/py2.7/lib/python2.7/re.py', 139, 'search'), ('/usr/lib/python2.7/ctypes/util.py', 185, '_findSoname_ldconfig'), ('/usr/lib/python2.7/ctypes/util.py', 223, 'find_library'), ('/usr/lib/python2.7/uuid.py', 45, '<module>'), ('/home/martin/.virtualenvs/py2.7/local/lib/python2.7/site-packages/requests-1.1.0-py2.7.egg/requests/packages/urllib3/filepost.py', 7, '<module>'), ('/home/martin/.virtualenvs/py2.7/local/lib/python2.7/site-packages/requests-1.1.0-py2.7.egg/requests/packages/urllib3/request.py', 7, '<module>'), ('/home/martin/.virtualenvs/py2.7/local/lib/python2.7/site-packages/requests-1.1.0-py2.7.egg/requests/packages/urllib3/connectionpool.py', 7, '<module>'), ('/home/martin/.virtualenvs/py2.7/local/lib/python2.7/site-packages/requests-1.1.0-py2.7.egg/requests/packages/urllib3/__init__.py', 9, '<module>'), ('/home/martin/.virtualenvs/py2.7/local/lib/python2.7/site-packages/requests-1.1.0-py2.7.egg/requests/packages/__init__.py', 1, '<module>'), ('/home/martin/.virtualenvs/py2.7/local/lib/python2.7/site-packages/requests-1.1.0-py2.7.egg/requests/compat.py', 5, '<module>'), ('/home/martin/.virtualenvs/py2.7/local/lib/python2.7/site-packages/requests-1.1.0-py2.7.egg/requests/utils.py', 10, '<module>'), ('/home/martin/.virtualenvs/py2.7/local/lib/python2.7/site-packages/requests-1.1.0-py2.7.egg/requests/__init__.py', 42, '<module>'), ('hjelmare/session2.py', 2, '<module>'), ('<string>', 1, '<module>'), ('/home/martin/.virtualenvs/py2.7/lib/python2.7/site-packages/plop/collector.py', 74, 'main'), ('/home/martin/.virtualenvs/py2.7/lib/python2.7/site-packages/plop/collector.py', 1, '<module>'), ('/usr/lib/python2.7/runpy.py', 62, '_run_code'), ('/usr/lib/python2.7/runpy.py', 136, '_run_module_as_main')): 1, (('/usr/lib/python2.7/Cookie.py', 313, '<genexpr>'), ('/usr/lib/python2.7/Cookie.py', 206, '<module>'), ('/home/martin/.virtualenvs/py2.7/local/lib/python2.7/site-packages/requests-1.1.0-py2.7.egg/requests/compat.py', 5, '<module>'), ('/home/martin/.virtualenvs/py2.7/local/lib/python2.7/site-packages/requests-1.1.0-py2.7.egg/requests/utils.py', 10, '<module>'), ('/home/martin/.virtualenvs/py2.7/local/lib/python2.7/site-packages/requests-1.1.0-py2.7.egg/requests/__init__.py', 42, '<module>'), ('hjelmare/session2.py', 2, '<module>'), ('<string>', 1, '<module>'), ('/home/martin/.virtualenvs/py2.7/lib/python2.7/site-packages/plop/collector.py', 74, 'main'), ('/home/martin/.virtualenvs/py2.7/lib/python2.7/site-packages/plop/collector.py', 1, '<module>'), ('/usr/lib/python2.7/runpy.py', 62, '_run_code'), ('/usr/lib/python2.7/runpy.py', 136, '_run_module_as_main')): 1, (('/home/martin/.virtualenvs/py2.7/lib/python2.7/locale.py', 12, '<module>'), ('/usr/lib/python2.7/calendar.py', 6, '<module>'), ('/usr/lib/python2.7/cookielib.py', 26, '<module>'), ('/home/martin/.virtualenvs/py2.7/local/lib/python2.7/site-packages/requests-1.1.0-py2.7.egg/requests/compat.py', 5, '<module>'), ('/home/martin/.virtualenvs/py2.7/local/lib/python2.7/site-packages/requests-1.1.0-py2.7.egg/requests/utils.py', 10, '<module>'), ('/home/martin/.virtualenvs/py2.7/local/lib/python2.7/site-packages/requests-1.1.0-py2.7.egg/requests/__init__.py', 42, '<module>'), ('hjelmare/session2.py', 2, '<module>'), ('<string>', 1, '<module>'), ('/home/martin/.virtualenvs/py2.7/lib/python2.7/site-packages/plop/collector.py', 74, 'main'), ('/home/martin/.virtualenvs/py2.7/lib/python2.7/site-packages/plop/collector.py', 1, '<module>'), ('/usr/lib/python2.7/runpy.py', 62, '_run_code'), ('/usr/lib/python2.7/runpy.py', 136, '_run_module_as_main')): 1}"
       ]
      }
     ],
     "prompt_number": 12
    },
    {
     "cell_type": "code",
     "collapsed": false,
     "input": [
      "%%script --bg bash\n",
      "python -m plop.viewer --port=9876 --datadir=/tmp"
     ],
     "language": "python",
     "metadata": {},
     "outputs": [
      {
       "output_type": "stream",
       "stream": "stdout",
       "text": [
        "Starting job # 4 in a separate thread.\n"
       ]
      }
     ],
     "prompt_number": 13
    },
    {
     "cell_type": "code",
     "collapsed": false,
     "input": [
      "%killbgscripts"
     ],
     "language": "python",
     "metadata": {},
     "outputs": [
      {
       "output_type": "stream",
       "stream": "stdout",
       "text": [
        "All background processes were killed.\n"
       ]
      }
     ],
     "prompt_number": 3
    },
    {
     "cell_type": "code",
     "collapsed": false,
     "input": [
      "%%bash\n",
      "kernprof.py --line-by-line /home/martin/Dev/hjelmare/scripts/getting_data.py"
     ],
     "language": "python",
     "metadata": {},
     "outputs": [
      {
       "output_type": "stream",
       "stream": "stdout",
       "text": [
        "Fraction of Repairs in the NYC subway system:0.575\n",
        "Wrote profile results to getting_data.py.lprof\n"
       ]
      }
     ],
     "prompt_number": 11
    },
    {
     "cell_type": "code",
     "collapsed": false,
     "input": [
      "%%bash\n",
      "python -m line_profiler /home/martin/Dev/hjelmare/getting_data.py.lprof"
     ],
     "language": "python",
     "metadata": {},
     "outputs": [
      {
       "output_type": "stream",
       "stream": "stdout",
       "text": [
        "Timer unit: 1e-06 s\n",
        "\n"
       ]
      }
     ],
     "prompt_number": 12
    },
    {
     "cell_type": "code",
     "collapsed": false,
     "input": [
      "%%bash\n",
      "kernprof.py --line-by-line /home/martin/Dev/hjelmare/scripts/check_repo.py /home/martin/Dev/hjelmare/"
     ],
     "language": "python",
     "metadata": {},
     "outputs": [
      {
       "output_type": "stream",
       "stream": "stdout",
       "text": [
        "PASS\n",
        "Wrote profile results to check_repo.py.lprof\n"
       ]
      }
     ],
     "prompt_number": 13
    },
    {
     "cell_type": "code",
     "collapsed": false,
     "input": [
      "%%bash\n",
      "python -m line_profiler /home/martin/Dev/hjelmare/check_repo.py.lprof"
     ],
     "language": "python",
     "metadata": {},
     "outputs": [
      {
       "output_type": "stream",
       "stream": "stdout",
       "text": [
        "Timer unit: 1e-06 s\n",
        "\n"
       ]
      }
     ],
     "prompt_number": 14
    },
    {
     "cell_type": "code",
     "collapsed": false,
     "input": [],
     "language": "python",
     "metadata": {},
     "outputs": []
    }
   ],
   "metadata": {}
  }
 ]
}